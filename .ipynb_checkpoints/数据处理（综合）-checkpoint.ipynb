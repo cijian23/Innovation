{
 "cells": [
  {
   "cell_type": "code",
   "execution_count": 1,
   "id": "4fd44b96",
   "metadata": {
    "is_executing": true
   },
   "outputs": [
    {
     "ename": "ModuleNotFoundError",
     "evalue": "No module named 'pandas'",
     "output_type": "error",
     "traceback": [
      "\u001b[1;31m---------------------------------------------------------------------------\u001b[0m",
      "\u001b[1;31mModuleNotFoundError\u001b[0m                       Traceback (most recent call last)",
      "Cell \u001b[1;32mIn[1], line 3\u001b[0m\n\u001b[0;32m      1\u001b[0m \u001b[38;5;66;03m#导入需要的包\u001b[39;00m\n\u001b[0;32m      2\u001b[0m \u001b[38;5;28;01mimport\u001b[39;00m \u001b[38;5;21;01mnumpy\u001b[39;00m \u001b[38;5;28;01mas\u001b[39;00m \u001b[38;5;21;01mnp\u001b[39;00m\n\u001b[1;32m----> 3\u001b[0m \u001b[38;5;28;01mimport\u001b[39;00m \u001b[38;5;21;01mpandas\u001b[39;00m \u001b[38;5;28;01mas\u001b[39;00m \u001b[38;5;21;01mpd\u001b[39;00m\n\u001b[0;32m      4\u001b[0m \u001b[38;5;28;01mimport\u001b[39;00m \u001b[38;5;21;01mos\u001b[39;00m\n\u001b[0;32m      5\u001b[0m \u001b[38;5;28;01mimport\u001b[39;00m \u001b[38;5;21;01mmatplotlib\u001b[39;00m\u001b[38;5;21;01m.\u001b[39;00m\u001b[38;5;21;01mpyplot\u001b[39;00m \u001b[38;5;28;01mas\u001b[39;00m \u001b[38;5;21;01mplt\u001b[39;00m\n",
      "\u001b[1;31mModuleNotFoundError\u001b[0m: No module named 'pandas'"
     ]
    }
   ],
   "source": [
    "#导入需要的包\n",
    "import numpy as np\n",
    "import pandas as pd\n",
    "import os\n",
    "import matplotlib.pyplot as plt\n",
    "import time\n",
    "import datetime\n",
    "import seaborn as sns\n",
    "from sklearn.preprocessing import MinMaxScaler\n",
    "from datetime import datetime, timedelta\n",
    "from chinese_calendar import is_holiday"
   ]
  },
  {
   "cell_type": "code",
   "execution_count": 2,
   "id": "d952bbec",
   "metadata": {
    "ExecuteTime": {
     "end_time": "2023-07-04T17:07:18.211068600Z",
     "start_time": "2023-07-04T17:07:18.201607600Z"
    }
   },
   "outputs": [],
   "source": [
    "#从文件夹中读取csv格式文件并将其转换为DataFrame\n",
    "def load_data(file_path, file_name):\n",
    "\t'''\n",
    "    file_path : 文件路径名，即Data或temp\n",
    "\n",
    "    file_name : 文件名，如：lai.csv\n",
    "    '''\n",
    "\tdf = pd.read_csv(\"../\" + file_path + \"/\" + file_name, encoding='gbk')\n",
    "\tcolumns = df.columns\n",
    "\tdf.fillna(df.mean(numeric_only=True), inplace=True)\n",
    "\treturn df"
   ]
  },
  {
   "cell_type": "code",
   "execution_count": 3,
   "id": "af9e4102",
   "metadata": {
    "ExecuteTime": {
     "end_time": "2023-07-04T17:07:18.236989500Z",
     "start_time": "2023-07-04T17:07:18.213067700Z"
    }
   },
   "outputs": [],
   "source": [
    "#截取样本并根据列值去除异常样本\n",
    "def cut_data(df, column_name, cut_index, abnormal_list):\n",
    "\t'''\n",
    "    df : DataFrame格式数据\n",
    "\n",
    "    column_name : 将要作为截取依据的列，如：要去除非用餐样本，可以将“商户名称”作为依据\n",
    "\n",
    "    cut_index : 截取的下标，如：在lai.csv中一区数据从591开始\n",
    "\n",
    "    abnormal_list : 异常样本列表\n",
    "    '''\n",
    "\tcut_df = df[:cut_index]\n",
    "\n",
    "\t# 创建一个空的 DataFrame 用于存储筛选后的数据\n",
    "\tfiltered_df = pd.DataFrame(columns=df.columns)\n",
    "\n",
    "\tfor index, row in cut_df.iterrows():\n",
    "\t\tif row[column_name] in abnormal_list:\n",
    "\t\t\tcontinue\n",
    "\t\telse:\n",
    "\t\t\t# 将不满足条件的行添加到 filtered_df\n",
    "\t\t\tfiltered_df = pd.concat([filtered_df, row.to_frame().T], ignore_index=True)\n",
    "\treturn filtered_df"
   ]
  },
  {
   "cell_type": "code",
   "execution_count": 4,
   "id": "8503b579",
   "metadata": {
    "ExecuteTime": {
     "end_time": "2023-07-04T17:07:18.242985700Z",
     "start_time": "2023-07-04T17:07:18.232985200Z"
    }
   },
   "outputs": [],
   "source": [
    "#将前后间隔不超过30分钟且刷卡地点相同的数据合并\n",
    "def merge_data(df):\n",
    "\t'''\n",
    "    df : DataFrame格式数据\n",
    "    '''\n",
    "\t#创建一个空的DataFrame或列表来存储处理后的数据。\n",
    "\tprocessed_data = pd.DataFrame(columns=df.columns)\n",
    "\n",
    "\tdf['时间'] = df['交易日期'] + ' ' + df['交易时间']\n",
    "\tdf['时间'] = pd.to_datetime(df['时间'], format='%Y/%m/%d %H:%M')\n",
    "\n",
    "\tprev_row = None\n",
    "\n",
    "\tfor index, row in df.iterrows():\n",
    "\t\tif prev_row is None:\n",
    "\t\t\tprev_row = row\n",
    "\t\telse:\n",
    "\t\t\ttime_diff = prev_row['时间'] - row['时间']\n",
    "\t\t\tif (time_diff <= pd.Timedelta(minutes=30)) and (row['商户名称'] == prev_row['商户名称']) and (\n",
    "\t\t\t\t\trow['学工号'] == prev_row['学工号']):\n",
    "\t\t\t\tprev_row['交易额'] += row['交易额']\n",
    "\t\t\telse:\n",
    "\t\t\t\tprocessed_data = pd.concat([processed_data, prev_row.to_frame().T], ignore_index=True)\n",
    "\t\t\t\tprev_row = row\n",
    "\n",
    "\t# 处理最后一行数据\n",
    "\tprocessed_data = pd.concat([processed_data, prev_row.to_frame().T], ignore_index=True)\n",
    "\treturn processed_data"
   ]
  },
  {
   "cell_type": "code",
   "execution_count": 5,
   "id": "07c954b7",
   "metadata": {
    "ExecuteTime": {
     "end_time": "2023-07-04T17:07:18.257753600Z",
     "start_time": "2023-07-04T17:07:18.244986200Z"
    }
   },
   "outputs": [],
   "source": [
    "#添加特征列，列值为时间的小时整点，用于与天气数据连接\n",
    "def time2int(df):\n",
    "\t'''\n",
    "    df : DataFrame格式数据\n",
    "    '''\n",
    "\t# 将交易时间数据保存在一个名为\"trade_times\"的列表中\n",
    "\ttrade_times = df['交易时间']\n",
    "\n",
    "\tprocessed_times = []\n",
    "\n",
    "\tfor time_str in trade_times:\n",
    "\t\t# 将时间字符串转换为datetime对象\n",
    "\t\tdt = datetime.strptime(time_str, \"%H:%M\")\n",
    "\t\t# 如果分钟大于等于30，则小时进一位，并将分钟置为0\n",
    "\t\tif dt.minute >= 30:\n",
    "\t\t\tdt = dt.replace(hour=dt.hour + 1, minute=0)\n",
    "\t\telse:\n",
    "\t\t\tdt = dt.replace(minute=0)\n",
    "\t\t# 将处理后的时间添加到列表中\n",
    "\t\tprocessed_times.append(dt.strftime(\"%H:%M\"))\n",
    "\n",
    "\tdf['时间'] = processed_times\n",
    "\treturn df"
   ]
  },
  {
   "cell_type": "code",
   "execution_count": 6,
   "id": "54b458cb",
   "metadata": {
    "ExecuteTime": {
     "end_time": "2023-07-04T17:07:18.306050200Z",
     "start_time": "2023-07-04T17:07:18.259753100Z"
    }
   },
   "outputs": [],
   "source": [
    "#将星期特征转换为数值，如 ：星期二 -> 2\n",
    "def week2num(df):\n",
    "\t'''\n",
    "    df : DataFrame格式数据\n",
    "    '''\n",
    "\tweek = []\n",
    "\n",
    "\tfor w in df['星期']:\n",
    "\t\tif w == '星期一':\n",
    "\t\t\tweek.append(1)\n",
    "\t\telif w == '星期二':\n",
    "\t\t\tweek.append(2)\n",
    "\t\telif w == '星期三':\n",
    "\t\t\tweek.append(3)\n",
    "\t\telif w == '星期四':\n",
    "\t\t\tweek.append(4)\n",
    "\t\telif w == '星期五':\n",
    "\t\t\tweek.append(5)\n",
    "\t\telif w == '星期六':\n",
    "\t\t\tweek.append(6)\n",
    "\t\telse:\n",
    "\t\t\tweek.append(7)\n",
    "\n",
    "\tdf['星期'] = week\n",
    "\treturn df"
   ]
  },
  {
   "cell_type": "code",
   "execution_count": 7,
   "id": "3dfb491c",
   "metadata": {
    "ExecuteTime": {
     "end_time": "2023-07-04T17:07:18.307049900Z",
     "start_time": "2023-07-04T17:07:18.276049600Z"
    }
   },
   "outputs": [],
   "source": [
    "#将特殊天象数值化，若为空则为0，否则为1\n",
    "def weather2num(df):\n",
    "\t'''\n",
    "    df : DataFrame格式数据\n",
    "    '''\n",
    "\tw_list = []\n",
    "\tweather = df['特殊天象'].values\n",
    "\n",
    "\tfor w in weather:\n",
    "\t\tif str(w) == 'nan':\n",
    "\t\t\tw_list.append(0)\n",
    "\t\telse:\n",
    "\t\t\tw_list.append(1)\n",
    "\tdf['特殊天象'] = w_list\n",
    "\treturn df"
   ]
  },
  {
   "cell_type": "code",
   "execution_count": 8,
   "id": "44f1ef93",
   "metadata": {
    "ExecuteTime": {
     "end_time": "2023-07-04T17:07:18.307049900Z",
     "start_time": "2023-07-04T17:07:18.293049900Z"
    }
   },
   "outputs": [],
   "source": [
    "#增添节假日特征\n",
    "def add_holiday(df):\n",
    "\t'''\n",
    "    df : DataFrame格式数据\n",
    "    '''\n",
    "\tholiday = []\n",
    "\n",
    "\tfor date in df['交易日期']:\n",
    "\t\tdate = datetime.strptime(date, \"%Y/%m/%d\").date()\n",
    "\t\tif is_holiday(date):\n",
    "\t\t\tholiday.append(1)\n",
    "\t\telse:\n",
    "\t\t\tholiday.append(0)\n",
    "\n",
    "\tdf['节假日'] = holiday\n",
    "\treturn df"
   ]
  },
  {
   "cell_type": "code",
   "execution_count": 9,
   "id": "e06be3b7",
   "metadata": {
    "ExecuteTime": {
     "end_time": "2023-07-04T17:07:18.322049200Z",
     "start_time": "2023-07-04T17:07:18.307049900Z"
    }
   },
   "outputs": [],
   "source": [
    "#增添时间戳特征\n",
    "def add_timestamp(df):\n",
    "\t'''\n",
    "    df : DataFrame格式数据\n",
    "    '''\n",
    "\tdf['时间戳'] = df['交易日期'] + ' ' + df['交易时间']\n",
    "\tdf['时间戳'] = df['时间戳'].apply(lambda x: time.mktime(time.strptime(x, '%Y/%m/%d %H:%M')))\n",
    "\treturn df"
   ]
  },
  {
   "cell_type": "code",
   "execution_count": 10,
   "id": "40055c23",
   "metadata": {
    "ExecuteTime": {
     "end_time": "2023-07-04T17:07:18.350052900Z",
     "start_time": "2023-07-04T17:07:18.325048800Z"
    }
   },
   "outputs": [],
   "source": [
    "#将原数据与天气数据结合起来\n",
    "def combine_climate(df, climate):\n",
    "\t'''\n",
    "    df : DataFrame格式数据\n",
    "\n",
    "    climate : DataFrame格式数据，包含天气信息\n",
    "    '''\n",
    "\t#将不足五位的天气数据用0补足，如7:00 -> 07:00\n",
    "\tclimate['时间'] = climate['时间'].str.zfill(5)\n",
    "\n",
    "\tdf['日期小时'] = df['交易日期'] + ' ' + df['时间'].str[:2]\n",
    "\tclimate['日期小时'] = climate['date'] + ' ' + climate['时间'].str[:2]\n",
    "\n",
    "\tmerged_df = pd.merge(df, climate, on='日期小时')\n",
    "\tmerged_df = merged_df.drop(['学工号', '姓名', '日期小时', 'date', '时间_x', '时间_y', '重要天象'], axis=1)\n",
    "\treturn merged_df"
   ]
  },
  {
   "cell_type": "code",
   "execution_count": 11,
   "id": "f4c4853a",
   "metadata": {
    "ExecuteTime": {
     "end_time": "2023-07-04T17:07:18.354049400Z",
     "start_time": "2023-07-04T17:07:18.343050600Z"
    }
   },
   "outputs": [],
   "source": [
    "#筛选合格的样本，如去除消费值过低（可能是买水等因素）的数据\n",
    "def select_data(df):\n",
    "\t'''\n",
    "    df : DataFrame格式数据\n",
    "\n",
    "    '''\n",
    "\t# 创建一个时间对象表示 10:00，用于区分上午和其他时段（早餐消费可能偏低）\n",
    "\tthreshold_time = pd.to_datetime('10:00', format='%H:%M')\n",
    "\n",
    "\t# 创建一个空的 DataFrame 用于存储筛选后的数据\n",
    "\tfiltered_df = pd.DataFrame(columns=df.columns)\n",
    "\n",
    "\t# 迭代 DataFrame 行\n",
    "\tfor index, row in df.iterrows():\n",
    "\t\tif float(row['交易额']) <= 5 and pd.to_datetime(row['交易时间'], format='%H:%M') > threshold_time:\n",
    "\t\t\t# 跳过满足条件的行\n",
    "\t\t\tcontinue\n",
    "\t\telif float(row['交易额']) <= 2 and pd.to_datetime(row['交易时间'], format='%H:%M') < threshold_time:\n",
    "\t\t\t# 跳过满足条件的行\n",
    "\t\t\tcontinue\n",
    "\t\telse:\n",
    "\t\t\t# 将不满足条件的行添加到 filtered_df\n",
    "\t\t\tfiltered_df = pd.concat([filtered_df, row.to_frame().T], ignore_index=True)\n",
    "\treturn filtered_df"
   ]
  },
  {
   "cell_type": "code",
   "execution_count": null,
   "id": "3b3abe35",
   "metadata": {
    "is_executing": true
   },
   "outputs": [],
   "source": [
    "#根据课表信息生成个人数据库\n",
    "def creat_database(path):\n",
    "\toriginal_personal_class = pd.read_csv('path')\n",
    "\tcourseType = ['Morning', 'Afternoon', 'Evening']\n",
    "\tdataList = pd.date_range(start='20220901', end='20230101').strftime('%Y/%m/%d').tolist()\n",
    "\tpersonal_class = pd.DataFrame(None, index=courseType, columns=dataList)\n",
    "\n",
    "\tfor index, row in original_personal_class.iterrows():\n",
    "\t\tif row['Node'][:-3] == ' 4节':\n",
    "\t\t\tpersonal_class.loc['Morning', row['Start Time']:row['End Time']] = 1\n",
    "\t\telif row['Node'][:-3] == ' 8节':\n",
    "\t\t\tpersonal_class.loc['Afternoon', row['Start Time']:row['End Time']] = 1\n",
    "\t\telif row['Node'][:-3] == '12节':\n",
    "\t\t\tpersonal_class.loc['Evening', row['Start Time']:row['End Time']] = 1\n",
    "\treturn personal_class"
   ]
  },
  {
   "cell_type": "code",
   "execution_count": null,
   "id": "73cfbf03",
   "metadata": {
    "is_executing": true
   },
   "outputs": [],
   "source": [
    "print(creat_database('./DataSet/课表/transform_2022秋_lai.csv'))"
   ]
  },
  {
   "cell_type": "code",
   "execution_count": null,
   "id": "d3179872",
   "metadata": {},
   "outputs": [],
   "source": [
    "#判断当前交易行为与课程间的关系\n",
    "def combine_class(df, personal_class):\n"
   ]
  },
  {
   "cell_type": "code",
   "execution_count": 12,
   "id": "cf99a067",
   "metadata": {
    "ExecuteTime": {
     "end_time": "2023-07-04T17:07:18.384032100Z",
     "start_time": "2023-07-04T17:07:18.355049100Z"
    }
   },
   "outputs": [],
   "source": [
    "#保存数据为csv文件\n",
    "def save_data(df, file_path, file_name):\n",
    "\t'''\n",
    "    df : DataFrame格式数据\n",
    "\n",
    "    file_path : 文件路径名，即Data或temp\n",
    "\n",
    "    file_name : 文件名，如：lai.csv\n",
    "    '''\n",
    "\n",
    "\tdf.to_csv('../' + file_path + '/' + file_name, sep=',', encoding='gbk', index=False)"
   ]
  },
  {
   "cell_type": "code",
   "execution_count": 14,
   "id": "837b588b",
   "metadata": {
    "ExecuteTime": {
     "end_time": "2023-07-04T17:07:57.518416500Z",
     "start_time": "2023-07-04T17:07:57.007229100Z"
    }
   },
   "outputs": [
    {
     "data": {
      "text/html": [
       "<div>\n",
       "<style scoped>\n",
       "    .dataframe tbody tr th:only-of-type {\n",
       "        vertical-align: middle;\n",
       "    }\n",
       "\n",
       "    .dataframe tbody tr th {\n",
       "        vertical-align: top;\n",
       "    }\n",
       "\n",
       "    .dataframe thead th {\n",
       "        text-align: right;\n",
       "    }\n",
       "</style>\n",
       "<table border=\"1\" class=\"dataframe\">\n",
       "  <thead>\n",
       "    <tr style=\"text-align: right;\">\n",
       "      <th></th>\n",
       "      <th>交易额</th>\n",
       "      <th>商户名称</th>\n",
       "      <th>交易日期</th>\n",
       "      <th>交易时间</th>\n",
       "      <th>星期</th>\n",
       "      <th>节假日</th>\n",
       "      <th>气温</th>\n",
       "      <th>气象站大气压</th>\n",
       "      <th>海平面大气压</th>\n",
       "      <th>相对湿度</th>\n",
       "      <th>平均风速</th>\n",
       "      <th>特殊天象</th>\n",
       "      <th>时间戳</th>\n",
       "    </tr>\n",
       "  </thead>\n",
       "  <tbody>\n",
       "    <tr>\n",
       "      <th>0</th>\n",
       "      <td>32.0</td>\n",
       "      <td>美食林肠粉</td>\n",
       "      <td>2023/4/25</td>\n",
       "      <td>11:44</td>\n",
       "      <td>2</td>\n",
       "      <td>0</td>\n",
       "      <td>7</td>\n",
       "      <td>742.7</td>\n",
       "      <td>755.4</td>\n",
       "      <td>66</td>\n",
       "      <td>10</td>\n",
       "      <td>0</td>\n",
       "      <td>1682394240.0</td>\n",
       "    </tr>\n",
       "    <tr>\n",
       "      <th>1</th>\n",
       "      <td>19.4</td>\n",
       "      <td>紫丁香餐吧副食一组（中西套餐）</td>\n",
       "      <td>2023/4/24</td>\n",
       "      <td>17:30</td>\n",
       "      <td>1</td>\n",
       "      <td>0</td>\n",
       "      <td>13</td>\n",
       "      <td>750.2</td>\n",
       "      <td>762.8</td>\n",
       "      <td>16</td>\n",
       "      <td>3</td>\n",
       "      <td>0</td>\n",
       "      <td>1682328600.0</td>\n",
       "    </tr>\n",
       "    <tr>\n",
       "      <th>2</th>\n",
       "      <td>13.0</td>\n",
       "      <td>学苑食堂香恋香拌砂锅</td>\n",
       "      <td>2023/4/24</td>\n",
       "      <td>11:53</td>\n",
       "      <td>1</td>\n",
       "      <td>0</td>\n",
       "      <td>14</td>\n",
       "      <td>754.0</td>\n",
       "      <td>766.6</td>\n",
       "      <td>14</td>\n",
       "      <td>7</td>\n",
       "      <td>0</td>\n",
       "      <td>1682308380.0</td>\n",
       "    </tr>\n",
       "    <tr>\n",
       "      <th>3</th>\n",
       "      <td>6.0</td>\n",
       "      <td>学苑食堂主食三组（面条）</td>\n",
       "      <td>2023/4/23</td>\n",
       "      <td>18:01</td>\n",
       "      <td>7</td>\n",
       "      <td>0</td>\n",
       "      <td>9</td>\n",
       "      <td>756.8</td>\n",
       "      <td>769.6</td>\n",
       "      <td>18</td>\n",
       "      <td>4</td>\n",
       "      <td>0</td>\n",
       "      <td>1682244060.0</td>\n",
       "    </tr>\n",
       "    <tr>\n",
       "      <th>4</th>\n",
       "      <td>13.8</td>\n",
       "      <td>阳光小是小简餐</td>\n",
       "      <td>2023/4/23</td>\n",
       "      <td>11:55</td>\n",
       "      <td>7</td>\n",
       "      <td>0</td>\n",
       "      <td>10</td>\n",
       "      <td>758.3</td>\n",
       "      <td>771.1</td>\n",
       "      <td>19</td>\n",
       "      <td>8</td>\n",
       "      <td>0</td>\n",
       "      <td>1682222100.0</td>\n",
       "    </tr>\n",
       "    <tr>\n",
       "      <th>...</th>\n",
       "      <td>...</td>\n",
       "      <td>...</td>\n",
       "      <td>...</td>\n",
       "      <td>...</td>\n",
       "      <td>...</td>\n",
       "      <td>...</td>\n",
       "      <td>...</td>\n",
       "      <td>...</td>\n",
       "      <td>...</td>\n",
       "      <td>...</td>\n",
       "      <td>...</td>\n",
       "      <td>...</td>\n",
       "      <td>...</td>\n",
       "    </tr>\n",
       "    <tr>\n",
       "      <th>282</th>\n",
       "      <td>7.0</td>\n",
       "      <td>阳光主食一组</td>\n",
       "      <td>2022/8/22</td>\n",
       "      <td>17:19</td>\n",
       "      <td>1</td>\n",
       "      <td>0</td>\n",
       "      <td>16</td>\n",
       "      <td>738.6</td>\n",
       "      <td>750.8</td>\n",
       "      <td>83</td>\n",
       "      <td>6</td>\n",
       "      <td>0</td>\n",
       "      <td>1661159940.0</td>\n",
       "    </tr>\n",
       "    <tr>\n",
       "      <th>283</th>\n",
       "      <td>16.0</td>\n",
       "      <td>民族餐厅山西饸饹面</td>\n",
       "      <td>2022/8/22</td>\n",
       "      <td>11:21</td>\n",
       "      <td>1</td>\n",
       "      <td>0</td>\n",
       "      <td>18</td>\n",
       "      <td>733.4</td>\n",
       "      <td>745.5</td>\n",
       "      <td>94</td>\n",
       "      <td>7</td>\n",
       "      <td>1</td>\n",
       "      <td>1661138460.0</td>\n",
       "    </tr>\n",
       "    <tr>\n",
       "      <th>284</th>\n",
       "      <td>15.0</td>\n",
       "      <td>美食林川蜀源烤鱼</td>\n",
       "      <td>2022/8/21</td>\n",
       "      <td>18:08</td>\n",
       "      <td>7</td>\n",
       "      <td>1</td>\n",
       "      <td>21</td>\n",
       "      <td>738.8</td>\n",
       "      <td>750.8</td>\n",
       "      <td>83</td>\n",
       "      <td>4</td>\n",
       "      <td>0</td>\n",
       "      <td>1661076480.0</td>\n",
       "    </tr>\n",
       "    <tr>\n",
       "      <th>285</th>\n",
       "      <td>10.0</td>\n",
       "      <td>民族餐厅山西饸饹面</td>\n",
       "      <td>2022/8/21</td>\n",
       "      <td>11:03</td>\n",
       "      <td>7</td>\n",
       "      <td>1</td>\n",
       "      <td>21</td>\n",
       "      <td>739.6</td>\n",
       "      <td>751.6</td>\n",
       "      <td>78</td>\n",
       "      <td>3</td>\n",
       "      <td>1</td>\n",
       "      <td>1661050980.0</td>\n",
       "    </tr>\n",
       "    <tr>\n",
       "      <th>286</th>\n",
       "      <td>13.0</td>\n",
       "      <td>美食林铁锅焖面</td>\n",
       "      <td>2022/7/3</td>\n",
       "      <td>12:35</td>\n",
       "      <td>7</td>\n",
       "      <td>1</td>\n",
       "      <td>28</td>\n",
       "      <td>741.3</td>\n",
       "      <td>753.1</td>\n",
       "      <td>70</td>\n",
       "      <td>6</td>\n",
       "      <td>0</td>\n",
       "      <td>1656822900.0</td>\n",
       "    </tr>\n",
       "  </tbody>\n",
       "</table>\n",
       "<p>287 rows × 13 columns</p>\n",
       "</div>"
      ],
      "text/plain": [
       "      交易额             商户名称       交易日期   交易时间 星期 节假日  气温 气象站大气压 海平面大气压 相对湿度  \\\n",
       "0    32.0            美食林肠粉  2023/4/25  11:44  2   0   7  742.7  755.4   66   \n",
       "1    19.4  紫丁香餐吧副食一组（中西套餐）  2023/4/24  17:30  1   0  13  750.2  762.8   16   \n",
       "2    13.0       学苑食堂香恋香拌砂锅  2023/4/24  11:53  1   0  14  754.0  766.6   14   \n",
       "3     6.0     学苑食堂主食三组（面条）  2023/4/23  18:01  7   0   9  756.8  769.6   18   \n",
       "4    13.8          阳光小是小简餐  2023/4/23  11:55  7   0  10  758.3  771.1   19   \n",
       "..    ...              ...        ...    ... ..  ..  ..    ...    ...  ...   \n",
       "282   7.0           阳光主食一组  2022/8/22  17:19  1   0  16  738.6  750.8   83   \n",
       "283  16.0        民族餐厅山西饸饹面  2022/8/22  11:21  1   0  18  733.4  745.5   94   \n",
       "284  15.0         美食林川蜀源烤鱼  2022/8/21  18:08  7   1  21  738.8  750.8   83   \n",
       "285  10.0        民族餐厅山西饸饹面  2022/8/21  11:03  7   1  21  739.6  751.6   78   \n",
       "286  13.0          美食林铁锅焖面   2022/7/3  12:35  7   1  28  741.3  753.1   70   \n",
       "\n",
       "    平均风速 特殊天象           时间戳  \n",
       "0     10    0  1682394240.0  \n",
       "1      3    0  1682328600.0  \n",
       "2      7    0  1682308380.0  \n",
       "3      4    0  1682244060.0  \n",
       "4      8    0  1682222100.0  \n",
       "..   ...  ...           ...  \n",
       "282    6    0  1661159940.0  \n",
       "283    7    1  1661138460.0  \n",
       "284    4    0  1661076480.0  \n",
       "285    3    1  1661050980.0  \n",
       "286    6    0  1656822900.0  \n",
       "\n",
       "[287 rows x 13 columns]"
      ]
     },
     "execution_count": 14,
     "metadata": {},
     "output_type": "execute_result"
    }
   ],
   "source": [
    "#通过更改文件名，处理不同组数据\n",
    "df = load_data('Data', 'li.csv')\n",
    "climate = load_data('temp', 'climate.csv')\n",
    "\n",
    "abnormal_merchant = np.array(['淘乐学苑水果', '学苑食堂霞姐饮品店', '中央红小月亮门店5', '中央红小月亮门店2' \\\n",
    "\t\t\t\t\t\t\t\t , '中央红小月亮门店4', '中央红小月亮门店6', '中央红小月亮门店3', '中央红小月亮正心楼' \\\n",
    "\t\t\t\t\t\t\t\t , '中央红-水果', '哈尔滨市南岗区淘乐水果捞店', '中央红小月亮门店1', '中央红-药店' \\\n",
    "\t\t\t\t\t\t\t\t , '深澜网费对接', '中央红-辣货', '紫丁香餐吧酒水（聚鑫食品）', '回味斋一餐厅酒水组' \\\n",
    "\t\t\t\t\t\t\t\t , '美芝林快客', '灌制间'])\n",
    "df = cut_data(df, '商户名称', 405, abnormal_merchant)\n",
    "df = merge_data(df)\n",
    "df = time2int(df)\n",
    "df = add_holiday(df)\n",
    "df = combine_climate(df, climate)\n",
    "df = add_timestamp(df)\n",
    "df = week2num(df)\n",
    "df = weather2num(df)\n",
    "df = select_data(df)\n",
    "df"
   ]
  },
  {
   "cell_type": "code",
   "execution_count": 15,
   "id": "effb3972",
   "metadata": {
    "ExecuteTime": {
     "end_time": "2023-07-04T17:08:03.246908Z",
     "start_time": "2023-07-04T17:08:03.226861400Z"
    }
   },
   "outputs": [],
   "source": [
    "#保存到temp目录下\n",
    "save_data(df, 'temp', '李（final）.csv')\n"
   ]
  },
  {
   "cell_type": "code",
   "execution_count": null,
   "id": "914eff4f",
   "metadata": {},
   "outputs": [],
   "source": []
  }
 ],
 "metadata": {
  "kernelspec": {
   "display_name": "Python 3 (ipykernel)",
   "language": "python",
   "name": "python3"
  },
  "language_info": {
   "codemirror_mode": {
    "name": "ipython",
    "version": 3
   },
   "file_extension": ".py",
   "mimetype": "text/x-python",
   "name": "python",
   "nbconvert_exporter": "python",
   "pygments_lexer": "ipython3",
   "version": "3.10.10"
  }
 },
 "nbformat": 4,
 "nbformat_minor": 5
}
