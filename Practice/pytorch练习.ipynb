{
 "cells": [
  {
   "cell_type": "code",
   "execution_count": 1,
   "id": "b8431d79",
   "metadata": {},
   "outputs": [],
   "source": [
    "import torch \n",
    "import torchvision\n",
    "import torch.nn as nn\n",
    "import numpy as np\n",
    "import torchvision.transforms as transforms"
   ]
  },
  {
   "cell_type": "code",
   "execution_count": 2,
   "id": "6f222426",
   "metadata": {},
   "outputs": [],
   "source": [
    "x = torch.tensor(1., requires_grad=True)\n",
    "w = torch.tensor(2., requires_grad=True)\n",
    "b = torch.tensor(3., requires_grad=True)\n",
    "\n",
    "y = w * x + b\n",
    "\n",
    "y.backward()"
   ]
  },
  {
   "cell_type": "code",
   "execution_count": 3,
   "id": "483d9e3e",
   "metadata": {},
   "outputs": [
    {
     "name": "stdout",
     "output_type": "stream",
     "text": [
      "tensor(2.)\n",
      "tensor(1.)\n",
      "tensor(1.)\n"
     ]
    }
   ],
   "source": [
    "print(x.grad)\n",
    "print(w.grad)\n",
    "print(b.grad)"
   ]
  },
  {
   "cell_type": "code",
   "execution_count": 6,
   "id": "391bc7b5",
   "metadata": {},
   "outputs": [
    {
     "name": "stdout",
     "output_type": "stream",
     "text": [
      "x : \n",
      " tensor([[-0.3199,  0.6741, -1.2218],\n",
      "        [-0.2186,  1.7770,  0.6082],\n",
      "        [-0.1417,  0.4510,  1.0196],\n",
      "        [ 0.5832,  0.6088,  0.5052],\n",
      "        [-0.1822, -0.3973, -1.9413],\n",
      "        [ 0.8348, -0.1701,  0.8357],\n",
      "        [-0.8650, -1.2497, -1.5493],\n",
      "        [ 1.3471, -1.0537,  1.1769],\n",
      "        [-2.0931, -0.6460,  0.0594],\n",
      "        [-0.6601,  0.1608,  0.3613]]) \n",
      "\n",
      "y : \n",
      " tensor([[ 0.4895, -0.1647],\n",
      "        [ 0.0590,  0.9889],\n",
      "        [ 0.9463,  0.7961],\n",
      "        [-1.4154, -1.2812],\n",
      "        [-0.6857, -0.4789],\n",
      "        [ 0.2296, -0.6366],\n",
      "        [-0.1250, -0.2199],\n",
      "        [-1.3699, -0.8379],\n",
      "        [ 0.5114,  1.9680],\n",
      "        [-0.6130,  0.8605]]) \n",
      "\n"
     ]
    }
   ],
   "source": [
    "x = torch.randn(10, 3)\n",
    "y = torch.randn(10, 2)\n",
    "\n",
    "print('x : \\n', x, '\\n')\n",
    "print('y : \\n', y, '\\n')"
   ]
  },
  {
   "cell_type": "code",
   "execution_count": 7,
   "id": "313f5a79",
   "metadata": {},
   "outputs": [
    {
     "name": "stdout",
     "output_type": "stream",
     "text": [
      "w : Parameter containing:\n",
      "tensor([[-0.1484, -0.2857,  0.0766],\n",
      "        [ 0.2834,  0.0773, -0.4624]], requires_grad=True)\n",
      "b : Parameter containing:\n",
      "tensor([ 0.5273, -0.5333], requires_grad=True)\n"
     ]
    }
   ],
   "source": [
    "linear = nn.Linear(3, 2)\n",
    "print('w :', linear.weight)\n",
    "print('b :', linear.bias)"
   ]
  },
  {
   "cell_type": "code",
   "execution_count": 9,
   "id": "942374e8",
   "metadata": {},
   "outputs": [],
   "source": [
    "criterion = nn.MSELoss()\n",
    "optimizer = torch.optim.SGD(linear.parameters(), lr=0.01)\n",
    "\n",
    "pred = linear(x)"
   ]
  },
  {
   "cell_type": "code",
   "execution_count": 10,
   "id": "b407203e",
   "metadata": {},
   "outputs": [
    {
     "name": "stdout",
     "output_type": "stream",
     "text": [
      "loss :  1.6178367137908936\n"
     ]
    }
   ],
   "source": [
    "loss = criterion(pred, y)\n",
    "print('loss : ', loss.item())"
   ]
  },
  {
   "cell_type": "code",
   "execution_count": 12,
   "id": "9795d289",
   "metadata": {},
   "outputs": [
    {
     "name": "stdout",
     "output_type": "stream",
     "text": [
      "dL/dw:  tensor([[ 0.1190, -0.3358, -0.0068],\n",
      "        [ 0.8632, -0.1999, -0.5084]])\n",
      "dL/db:  tensor([ 0.7446, -0.6734])\n"
     ]
    }
   ],
   "source": [
    "# Backward pass.\n",
    "loss.backward()\n",
    "\n",
    "# Print out the gradients.\n",
    "print ('dL/dw: ', linear.weight.grad) \n",
    "print ('dL/db: ', linear.bias.grad)"
   ]
  },
  {
   "cell_type": "code",
   "execution_count": 13,
   "id": "6a43049c",
   "metadata": {},
   "outputs": [
    {
     "name": "stdout",
     "output_type": "stream",
     "text": [
      "loss after 1 step optimization:  1.5961486101150513\n"
     ]
    }
   ],
   "source": [
    "optimizer.step()\n",
    "\n",
    "pred=linear(x)\n",
    "loss=criterion(pred,y)\n",
    "print('loss after 1 step optimization: ',loss.item())"
   ]
  },
  {
   "cell_type": "code",
   "execution_count": 14,
   "id": "b2f5ce82",
   "metadata": {},
   "outputs": [],
   "source": [
    "# Create a numpy array.\n",
    "x=np.array([[1,2], [3,4]])\n",
    "# Convert the numpy array to a torch tensor.\n",
    "y=torch.from_numpy(x)\n",
    "# Convert the torch tensor to a numpy array.\n",
    "z=y.numpy()\n"
   ]
  },
  {
   "cell_type": "code",
   "execution_count": 15,
   "id": "d1fe508c",
   "metadata": {},
   "outputs": [
    {
     "name": "stdout",
     "output_type": "stream",
     "text": [
      "Downloading https://www.cs.toronto.edu/~kriz/cifar-10-python.tar.gz to ../../data/cifar-10-python.tar.gz\n"
     ]
    },
    {
     "name": "stderr",
     "output_type": "stream",
     "text": [
      "100%|███████████████████████████████████████████████████████████████| 170498071/170498071 [00:36<00:00, 4716809.27it/s]\n"
     ]
    },
    {
     "name": "stdout",
     "output_type": "stream",
     "text": [
      "Extracting ../../data/cifar-10-python.tar.gz to ../../data/\n"
     ]
    }
   ],
   "source": [
    "train_dataset=torchvision.datasets.CIFAR10(root='../../data/',\n",
    "train=True,\n",
    "transform=transforms.ToTensor(),\n",
    "download=True)"
   ]
  },
  {
   "cell_type": "code",
   "execution_count": 16,
   "id": "76c4f008",
   "metadata": {},
   "outputs": [
    {
     "name": "stdout",
     "output_type": "stream",
     "text": [
      "torch.Size([3, 32, 32])\n",
      "6\n"
     ]
    }
   ],
   "source": [
    "image,label=train_dataset[0]\n",
    "print(image.size())\n",
    "print(label)\n"
   ]
  },
  {
   "cell_type": "code",
   "execution_count": 17,
   "id": "4760c317",
   "metadata": {},
   "outputs": [],
   "source": [
    "# Data loader (this provides queues and threads in a very simple way).\n",
    "train_loader=torch.utils.data.DataLoader(dataset=train_dataset,\n",
    "batch_size=64,\n",
    "shuffle=True)\n"
   ]
  },
  {
   "cell_type": "code",
   "execution_count": 20,
   "id": "14082b57",
   "metadata": {},
   "outputs": [],
   "source": [
    "# When iteration starts, queue and thread start to load data from files.\n",
    "data_iter=iter(train_loader)\n",
    "# Mini-batch images and labels.\n",
    "images,labels=data_iter.__next__()\n"
   ]
  },
  {
   "cell_type": "code",
   "execution_count": 22,
   "id": "c627fa8c",
   "metadata": {},
   "outputs": [
    {
     "data": {
      "text/plain": [
       "64"
      ]
     },
     "execution_count": 22,
     "metadata": {},
     "output_type": "execute_result"
    }
   ],
   "source": [
    "len(images)"
   ]
  }
 ],
 "metadata": {
  "kernelspec": {
   "display_name": "Python 3 (ipykernel)",
   "language": "python",
   "name": "python3"
  },
  "language_info": {
   "codemirror_mode": {
    "name": "ipython",
    "version": 3
   },
   "file_extension": ".py",
   "mimetype": "text/x-python",
   "name": "python",
   "nbconvert_exporter": "python",
   "pygments_lexer": "ipython3",
   "version": "3.9.16"
  }
 },
 "nbformat": 4,
 "nbformat_minor": 5
}
